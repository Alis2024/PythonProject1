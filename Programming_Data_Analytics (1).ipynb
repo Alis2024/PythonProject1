{
  "nbformat": 4,
  "nbformat_minor": 0,
  "metadata": {
    "colab": {
      "provenance": []
    },
    "kernelspec": {
      "name": "python3",
      "display_name": "Python 3"
    },
    "language_info": {
      "name": "python"
    }
  },
  "cells": [
    {
      "cell_type": "code",
      "execution_count": 259,
      "metadata": {
        "colab": {
          "base_uri": "https://localhost:8080/"
        },
        "id": "eElNDEeX7vCx",
        "outputId": "5d8689af-eab4-4f6f-e1ae-6cab4823515e"
      },
      "outputs": [
        {
          "output_type": "stream",
          "name": "stdout",
          "text": [
            "Requirement already satisfied: scikit-plot in /usr/local/lib/python3.10/dist-packages (0.3.7)\n",
            "Requirement already satisfied: matplotlib>=1.4.0 in /usr/local/lib/python3.10/dist-packages (from scikit-plot) (3.7.1)\n",
            "Requirement already satisfied: scikit-learn>=0.18 in /usr/local/lib/python3.10/dist-packages (from scikit-plot) (1.2.2)\n",
            "Requirement already satisfied: scipy>=0.9 in /usr/local/lib/python3.10/dist-packages (from scikit-plot) (1.11.4)\n",
            "Requirement already satisfied: joblib>=0.10 in /usr/local/lib/python3.10/dist-packages (from scikit-plot) (1.4.2)\n",
            "Requirement already satisfied: contourpy>=1.0.1 in /usr/local/lib/python3.10/dist-packages (from matplotlib>=1.4.0->scikit-plot) (1.2.1)\n",
            "Requirement already satisfied: cycler>=0.10 in /usr/local/lib/python3.10/dist-packages (from matplotlib>=1.4.0->scikit-plot) (0.12.1)\n",
            "Requirement already satisfied: fonttools>=4.22.0 in /usr/local/lib/python3.10/dist-packages (from matplotlib>=1.4.0->scikit-plot) (4.51.0)\n",
            "Requirement already satisfied: kiwisolver>=1.0.1 in /usr/local/lib/python3.10/dist-packages (from matplotlib>=1.4.0->scikit-plot) (1.4.5)\n",
            "Requirement already satisfied: numpy>=1.20 in /usr/local/lib/python3.10/dist-packages (from matplotlib>=1.4.0->scikit-plot) (1.25.2)\n",
            "Requirement already satisfied: packaging>=20.0 in /usr/local/lib/python3.10/dist-packages (from matplotlib>=1.4.0->scikit-plot) (24.0)\n",
            "Requirement already satisfied: pillow>=6.2.0 in /usr/local/lib/python3.10/dist-packages (from matplotlib>=1.4.0->scikit-plot) (9.4.0)\n",
            "Requirement already satisfied: pyparsing>=2.3.1 in /usr/local/lib/python3.10/dist-packages (from matplotlib>=1.4.0->scikit-plot) (3.1.2)\n",
            "Requirement already satisfied: python-dateutil>=2.7 in /usr/local/lib/python3.10/dist-packages (from matplotlib>=1.4.0->scikit-plot) (2.8.2)\n",
            "Requirement already satisfied: threadpoolctl>=2.0.0 in /usr/local/lib/python3.10/dist-packages (from scikit-learn>=0.18->scikit-plot) (3.5.0)\n",
            "Requirement already satisfied: six>=1.5 in /usr/local/lib/python3.10/dist-packages (from python-dateutil>=2.7->matplotlib>=1.4.0->scikit-plot) (1.16.0)\n"
          ]
        }
      ],
      "source": [
        "#Load the required libraries\n",
        "import pandas as pd\n",
        "import matplotlib.pyplot as plt\n",
        "import numpy as np\n",
        "import seaborn as sns\n",
        "from scipy.stats import skew, kurtosis\n",
        "!pip install scikit-plot\n",
        "import pandas as pd\n",
        "from sklearn import metrics\n",
        "from sklearn.linear_model import LogisticRegression\n"
      ]
    },
    {
      "cell_type": "code",
      "source": [
        "#Load the Dataset\n",
        "data = pd.read_csv(\"/content/Marketing Campaign data (1).csv\")"
      ],
      "metadata": {
        "id": "X1kyQCkk8AJd"
      },
      "execution_count": 260,
      "outputs": []
    },
    {
      "cell_type": "code",
      "source": [
        "#Understanding the data type of each variable\n",
        "data.info()"
      ],
      "metadata": {
        "colab": {
          "base_uri": "https://localhost:8080/"
        },
        "id": "UiZDGWE_8ES0",
        "outputId": "e08fc3df-5a84-49df-8b56-a6f984b827ae"
      },
      "execution_count": 261,
      "outputs": [
        {
          "output_type": "stream",
          "name": "stdout",
          "text": [
            "<class 'pandas.core.frame.DataFrame'>\n",
            "RangeIndex: 1500 entries, 0 to 1499\n",
            "Data columns (total 19 columns):\n",
            " #   Column                   Non-Null Count  Dtype \n",
            "---  ------                   --------------  ----- \n",
            " 0   CUST_ID                  1500 non-null   int64 \n",
            " 1   CUST_GENDER              1500 non-null   object\n",
            " 2   AGE                      1500 non-null   int64 \n",
            " 3   CUST_MARITAL_STATUS      1500 non-null   object\n",
            " 4   COUNTRY_NAME             1500 non-null   object\n",
            " 5   CUST_INCOME_LEVEL        1500 non-null   object\n",
            " 6   EDUCATION                1500 non-null   object\n",
            " 7   OCCUPATION               1500 non-null   object\n",
            " 8   HOUSEHOLD_SIZE           1500 non-null   object\n",
            " 9   YRS_RESIDENCE            1500 non-null   int64 \n",
            " 10  AFFINITY_CARD            1500 non-null   int64 \n",
            " 11  BULK_PACK_DISKETTES      1500 non-null   int64 \n",
            " 12  FLAT_PANEL_MONITOR       1500 non-null   int64 \n",
            " 13  HOME_THEATER_PACKAGE     1500 non-null   int64 \n",
            " 14  BOOKKEEPING_APPLICATION  1500 non-null   int64 \n",
            " 15  PRINTER_SUPPLIES         1500 non-null   int64 \n",
            " 16  Y_BOX_GAMES              1500 non-null   int64 \n",
            " 17  OS_DOC_SET_KANJI         1500 non-null   int64 \n",
            " 18  COMMENTS                 1427 non-null   object\n",
            "dtypes: int64(11), object(8)\n",
            "memory usage: 222.8+ KB\n"
          ]
        }
      ]
    },
    {
      "cell_type": "code",
      "source": [
        "#Display summary statistics\n",
        "data.describe()"
      ],
      "metadata": {
        "colab": {
          "base_uri": "https://localhost:8080/",
          "height": 320
        },
        "id": "yuAeBD0E9N5r",
        "outputId": "1daa5e90-3082-4635-d91f-6973e9c56e2a"
      },
      "execution_count": 262,
      "outputs": [
        {
          "output_type": "execute_result",
          "data": {
            "text/plain": [
              "             CUST_ID          AGE  YRS_RESIDENCE  AFFINITY_CARD  \\\n",
              "count    1500.000000  1500.000000    1500.000000    1500.000000   \n",
              "mean   102250.500000    38.892000       4.088667       0.253333   \n",
              "std       433.157015    13.636384       1.920919       0.435065   \n",
              "min    101501.000000    17.000000       0.000000       0.000000   \n",
              "25%    101875.750000    28.000000       3.000000       0.000000   \n",
              "50%    102250.500000    37.000000       4.000000       0.000000   \n",
              "75%    102625.250000    47.000000       5.000000       1.000000   \n",
              "max    103000.000000    90.000000      14.000000       1.000000   \n",
              "\n",
              "       BULK_PACK_DISKETTES  FLAT_PANEL_MONITOR  HOME_THEATER_PACKAGE  \\\n",
              "count            1500.0000         1500.000000           1500.000000   \n",
              "mean                0.6280            0.582000              0.575333   \n",
              "std                 0.4835            0.493395              0.494457   \n",
              "min                 0.0000            0.000000              0.000000   \n",
              "25%                 0.0000            0.000000              0.000000   \n",
              "50%                 1.0000            1.000000              1.000000   \n",
              "75%                 1.0000            1.000000              1.000000   \n",
              "max                 1.0000            1.000000              1.000000   \n",
              "\n",
              "       BOOKKEEPING_APPLICATION  PRINTER_SUPPLIES  Y_BOX_GAMES  \\\n",
              "count              1500.000000            1500.0  1500.000000   \n",
              "mean                  0.880667               1.0     0.286667   \n",
              "std                   0.324288               0.0     0.452355   \n",
              "min                   0.000000               1.0     0.000000   \n",
              "25%                   1.000000               1.0     0.000000   \n",
              "50%                   1.000000               1.0     0.000000   \n",
              "75%                   1.000000               1.0     1.000000   \n",
              "max                   1.000000               1.0     1.000000   \n",
              "\n",
              "       OS_DOC_SET_KANJI  \n",
              "count       1500.000000  \n",
              "mean           0.002000  \n",
              "std            0.044692  \n",
              "min            0.000000  \n",
              "25%            0.000000  \n",
              "50%            0.000000  \n",
              "75%            0.000000  \n",
              "max            1.000000  "
            ],
            "text/html": [
              "\n",
              "  <div id=\"df-74ede457-e916-4010-a280-0a144b874144\" class=\"colab-df-container\">\n",
              "    <div>\n",
              "<style scoped>\n",
              "    .dataframe tbody tr th:only-of-type {\n",
              "        vertical-align: middle;\n",
              "    }\n",
              "\n",
              "    .dataframe tbody tr th {\n",
              "        vertical-align: top;\n",
              "    }\n",
              "\n",
              "    .dataframe thead th {\n",
              "        text-align: right;\n",
              "    }\n",
              "</style>\n",
              "<table border=\"1\" class=\"dataframe\">\n",
              "  <thead>\n",
              "    <tr style=\"text-align: right;\">\n",
              "      <th></th>\n",
              "      <th>CUST_ID</th>\n",
              "      <th>AGE</th>\n",
              "      <th>YRS_RESIDENCE</th>\n",
              "      <th>AFFINITY_CARD</th>\n",
              "      <th>BULK_PACK_DISKETTES</th>\n",
              "      <th>FLAT_PANEL_MONITOR</th>\n",
              "      <th>HOME_THEATER_PACKAGE</th>\n",
              "      <th>BOOKKEEPING_APPLICATION</th>\n",
              "      <th>PRINTER_SUPPLIES</th>\n",
              "      <th>Y_BOX_GAMES</th>\n",
              "      <th>OS_DOC_SET_KANJI</th>\n",
              "    </tr>\n",
              "  </thead>\n",
              "  <tbody>\n",
              "    <tr>\n",
              "      <th>count</th>\n",
              "      <td>1500.000000</td>\n",
              "      <td>1500.000000</td>\n",
              "      <td>1500.000000</td>\n",
              "      <td>1500.000000</td>\n",
              "      <td>1500.0000</td>\n",
              "      <td>1500.000000</td>\n",
              "      <td>1500.000000</td>\n",
              "      <td>1500.000000</td>\n",
              "      <td>1500.0</td>\n",
              "      <td>1500.000000</td>\n",
              "      <td>1500.000000</td>\n",
              "    </tr>\n",
              "    <tr>\n",
              "      <th>mean</th>\n",
              "      <td>102250.500000</td>\n",
              "      <td>38.892000</td>\n",
              "      <td>4.088667</td>\n",
              "      <td>0.253333</td>\n",
              "      <td>0.6280</td>\n",
              "      <td>0.582000</td>\n",
              "      <td>0.575333</td>\n",
              "      <td>0.880667</td>\n",
              "      <td>1.0</td>\n",
              "      <td>0.286667</td>\n",
              "      <td>0.002000</td>\n",
              "    </tr>\n",
              "    <tr>\n",
              "      <th>std</th>\n",
              "      <td>433.157015</td>\n",
              "      <td>13.636384</td>\n",
              "      <td>1.920919</td>\n",
              "      <td>0.435065</td>\n",
              "      <td>0.4835</td>\n",
              "      <td>0.493395</td>\n",
              "      <td>0.494457</td>\n",
              "      <td>0.324288</td>\n",
              "      <td>0.0</td>\n",
              "      <td>0.452355</td>\n",
              "      <td>0.044692</td>\n",
              "    </tr>\n",
              "    <tr>\n",
              "      <th>min</th>\n",
              "      <td>101501.000000</td>\n",
              "      <td>17.000000</td>\n",
              "      <td>0.000000</td>\n",
              "      <td>0.000000</td>\n",
              "      <td>0.0000</td>\n",
              "      <td>0.000000</td>\n",
              "      <td>0.000000</td>\n",
              "      <td>0.000000</td>\n",
              "      <td>1.0</td>\n",
              "      <td>0.000000</td>\n",
              "      <td>0.000000</td>\n",
              "    </tr>\n",
              "    <tr>\n",
              "      <th>25%</th>\n",
              "      <td>101875.750000</td>\n",
              "      <td>28.000000</td>\n",
              "      <td>3.000000</td>\n",
              "      <td>0.000000</td>\n",
              "      <td>0.0000</td>\n",
              "      <td>0.000000</td>\n",
              "      <td>0.000000</td>\n",
              "      <td>1.000000</td>\n",
              "      <td>1.0</td>\n",
              "      <td>0.000000</td>\n",
              "      <td>0.000000</td>\n",
              "    </tr>\n",
              "    <tr>\n",
              "      <th>50%</th>\n",
              "      <td>102250.500000</td>\n",
              "      <td>37.000000</td>\n",
              "      <td>4.000000</td>\n",
              "      <td>0.000000</td>\n",
              "      <td>1.0000</td>\n",
              "      <td>1.000000</td>\n",
              "      <td>1.000000</td>\n",
              "      <td>1.000000</td>\n",
              "      <td>1.0</td>\n",
              "      <td>0.000000</td>\n",
              "      <td>0.000000</td>\n",
              "    </tr>\n",
              "    <tr>\n",
              "      <th>75%</th>\n",
              "      <td>102625.250000</td>\n",
              "      <td>47.000000</td>\n",
              "      <td>5.000000</td>\n",
              "      <td>1.000000</td>\n",
              "      <td>1.0000</td>\n",
              "      <td>1.000000</td>\n",
              "      <td>1.000000</td>\n",
              "      <td>1.000000</td>\n",
              "      <td>1.0</td>\n",
              "      <td>1.000000</td>\n",
              "      <td>0.000000</td>\n",
              "    </tr>\n",
              "    <tr>\n",
              "      <th>max</th>\n",
              "      <td>103000.000000</td>\n",
              "      <td>90.000000</td>\n",
              "      <td>14.000000</td>\n",
              "      <td>1.000000</td>\n",
              "      <td>1.0000</td>\n",
              "      <td>1.000000</td>\n",
              "      <td>1.000000</td>\n",
              "      <td>1.000000</td>\n",
              "      <td>1.0</td>\n",
              "      <td>1.000000</td>\n",
              "      <td>1.000000</td>\n",
              "    </tr>\n",
              "  </tbody>\n",
              "</table>\n",
              "</div>\n",
              "    <div class=\"colab-df-buttons\">\n",
              "\n",
              "  <div class=\"colab-df-container\">\n",
              "    <button class=\"colab-df-convert\" onclick=\"convertToInteractive('df-74ede457-e916-4010-a280-0a144b874144')\"\n",
              "            title=\"Convert this dataframe to an interactive table.\"\n",
              "            style=\"display:none;\">\n",
              "\n",
              "  <svg xmlns=\"http://www.w3.org/2000/svg\" height=\"24px\" viewBox=\"0 -960 960 960\">\n",
              "    <path d=\"M120-120v-720h720v720H120Zm60-500h600v-160H180v160Zm220 220h160v-160H400v160Zm0 220h160v-160H400v160ZM180-400h160v-160H180v160Zm440 0h160v-160H620v160ZM180-180h160v-160H180v160Zm440 0h160v-160H620v160Z\"/>\n",
              "  </svg>\n",
              "    </button>\n",
              "\n",
              "  <style>\n",
              "    .colab-df-container {\n",
              "      display:flex;\n",
              "      gap: 12px;\n",
              "    }\n",
              "\n",
              "    .colab-df-convert {\n",
              "      background-color: #E8F0FE;\n",
              "      border: none;\n",
              "      border-radius: 50%;\n",
              "      cursor: pointer;\n",
              "      display: none;\n",
              "      fill: #1967D2;\n",
              "      height: 32px;\n",
              "      padding: 0 0 0 0;\n",
              "      width: 32px;\n",
              "    }\n",
              "\n",
              "    .colab-df-convert:hover {\n",
              "      background-color: #E2EBFA;\n",
              "      box-shadow: 0px 1px 2px rgba(60, 64, 67, 0.3), 0px 1px 3px 1px rgba(60, 64, 67, 0.15);\n",
              "      fill: #174EA6;\n",
              "    }\n",
              "\n",
              "    .colab-df-buttons div {\n",
              "      margin-bottom: 4px;\n",
              "    }\n",
              "\n",
              "    [theme=dark] .colab-df-convert {\n",
              "      background-color: #3B4455;\n",
              "      fill: #D2E3FC;\n",
              "    }\n",
              "\n",
              "    [theme=dark] .colab-df-convert:hover {\n",
              "      background-color: #434B5C;\n",
              "      box-shadow: 0px 1px 3px 1px rgba(0, 0, 0, 0.15);\n",
              "      filter: drop-shadow(0px 1px 2px rgba(0, 0, 0, 0.3));\n",
              "      fill: #FFFFFF;\n",
              "    }\n",
              "  </style>\n",
              "\n",
              "    <script>\n",
              "      const buttonEl =\n",
              "        document.querySelector('#df-74ede457-e916-4010-a280-0a144b874144 button.colab-df-convert');\n",
              "      buttonEl.style.display =\n",
              "        google.colab.kernel.accessAllowed ? 'block' : 'none';\n",
              "\n",
              "      async function convertToInteractive(key) {\n",
              "        const element = document.querySelector('#df-74ede457-e916-4010-a280-0a144b874144');\n",
              "        const dataTable =\n",
              "          await google.colab.kernel.invokeFunction('convertToInteractive',\n",
              "                                                    [key], {});\n",
              "        if (!dataTable) return;\n",
              "\n",
              "        const docLinkHtml = 'Like what you see? Visit the ' +\n",
              "          '<a target=\"_blank\" href=https://colab.research.google.com/notebooks/data_table.ipynb>data table notebook</a>'\n",
              "          + ' to learn more about interactive tables.';\n",
              "        element.innerHTML = '';\n",
              "        dataTable['output_type'] = 'display_data';\n",
              "        await google.colab.output.renderOutput(dataTable, element);\n",
              "        const docLink = document.createElement('div');\n",
              "        docLink.innerHTML = docLinkHtml;\n",
              "        element.appendChild(docLink);\n",
              "      }\n",
              "    </script>\n",
              "  </div>\n",
              "\n",
              "\n",
              "<div id=\"df-e82f47d2-c951-48cb-bc16-ae77765a8a1b\">\n",
              "  <button class=\"colab-df-quickchart\" onclick=\"quickchart('df-e82f47d2-c951-48cb-bc16-ae77765a8a1b')\"\n",
              "            title=\"Suggest charts\"\n",
              "            style=\"display:none;\">\n",
              "\n",
              "<svg xmlns=\"http://www.w3.org/2000/svg\" height=\"24px\"viewBox=\"0 0 24 24\"\n",
              "     width=\"24px\">\n",
              "    <g>\n",
              "        <path d=\"M19 3H5c-1.1 0-2 .9-2 2v14c0 1.1.9 2 2 2h14c1.1 0 2-.9 2-2V5c0-1.1-.9-2-2-2zM9 17H7v-7h2v7zm4 0h-2V7h2v10zm4 0h-2v-4h2v4z\"/>\n",
              "    </g>\n",
              "</svg>\n",
              "  </button>\n",
              "\n",
              "<style>\n",
              "  .colab-df-quickchart {\n",
              "      --bg-color: #E8F0FE;\n",
              "      --fill-color: #1967D2;\n",
              "      --hover-bg-color: #E2EBFA;\n",
              "      --hover-fill-color: #174EA6;\n",
              "      --disabled-fill-color: #AAA;\n",
              "      --disabled-bg-color: #DDD;\n",
              "  }\n",
              "\n",
              "  [theme=dark] .colab-df-quickchart {\n",
              "      --bg-color: #3B4455;\n",
              "      --fill-color: #D2E3FC;\n",
              "      --hover-bg-color: #434B5C;\n",
              "      --hover-fill-color: #FFFFFF;\n",
              "      --disabled-bg-color: #3B4455;\n",
              "      --disabled-fill-color: #666;\n",
              "  }\n",
              "\n",
              "  .colab-df-quickchart {\n",
              "    background-color: var(--bg-color);\n",
              "    border: none;\n",
              "    border-radius: 50%;\n",
              "    cursor: pointer;\n",
              "    display: none;\n",
              "    fill: var(--fill-color);\n",
              "    height: 32px;\n",
              "    padding: 0;\n",
              "    width: 32px;\n",
              "  }\n",
              "\n",
              "  .colab-df-quickchart:hover {\n",
              "    background-color: var(--hover-bg-color);\n",
              "    box-shadow: 0 1px 2px rgba(60, 64, 67, 0.3), 0 1px 3px 1px rgba(60, 64, 67, 0.15);\n",
              "    fill: var(--button-hover-fill-color);\n",
              "  }\n",
              "\n",
              "  .colab-df-quickchart-complete:disabled,\n",
              "  .colab-df-quickchart-complete:disabled:hover {\n",
              "    background-color: var(--disabled-bg-color);\n",
              "    fill: var(--disabled-fill-color);\n",
              "    box-shadow: none;\n",
              "  }\n",
              "\n",
              "  .colab-df-spinner {\n",
              "    border: 2px solid var(--fill-color);\n",
              "    border-color: transparent;\n",
              "    border-bottom-color: var(--fill-color);\n",
              "    animation:\n",
              "      spin 1s steps(1) infinite;\n",
              "  }\n",
              "\n",
              "  @keyframes spin {\n",
              "    0% {\n",
              "      border-color: transparent;\n",
              "      border-bottom-color: var(--fill-color);\n",
              "      border-left-color: var(--fill-color);\n",
              "    }\n",
              "    20% {\n",
              "      border-color: transparent;\n",
              "      border-left-color: var(--fill-color);\n",
              "      border-top-color: var(--fill-color);\n",
              "    }\n",
              "    30% {\n",
              "      border-color: transparent;\n",
              "      border-left-color: var(--fill-color);\n",
              "      border-top-color: var(--fill-color);\n",
              "      border-right-color: var(--fill-color);\n",
              "    }\n",
              "    40% {\n",
              "      border-color: transparent;\n",
              "      border-right-color: var(--fill-color);\n",
              "      border-top-color: var(--fill-color);\n",
              "    }\n",
              "    60% {\n",
              "      border-color: transparent;\n",
              "      border-right-color: var(--fill-color);\n",
              "    }\n",
              "    80% {\n",
              "      border-color: transparent;\n",
              "      border-right-color: var(--fill-color);\n",
              "      border-bottom-color: var(--fill-color);\n",
              "    }\n",
              "    90% {\n",
              "      border-color: transparent;\n",
              "      border-bottom-color: var(--fill-color);\n",
              "    }\n",
              "  }\n",
              "</style>\n",
              "\n",
              "  <script>\n",
              "    async function quickchart(key) {\n",
              "      const quickchartButtonEl =\n",
              "        document.querySelector('#' + key + ' button');\n",
              "      quickchartButtonEl.disabled = true;  // To prevent multiple clicks.\n",
              "      quickchartButtonEl.classList.add('colab-df-spinner');\n",
              "      try {\n",
              "        const charts = await google.colab.kernel.invokeFunction(\n",
              "            'suggestCharts', [key], {});\n",
              "      } catch (error) {\n",
              "        console.error('Error during call to suggestCharts:', error);\n",
              "      }\n",
              "      quickchartButtonEl.classList.remove('colab-df-spinner');\n",
              "      quickchartButtonEl.classList.add('colab-df-quickchart-complete');\n",
              "    }\n",
              "    (() => {\n",
              "      let quickchartButtonEl =\n",
              "        document.querySelector('#df-e82f47d2-c951-48cb-bc16-ae77765a8a1b button');\n",
              "      quickchartButtonEl.style.display =\n",
              "        google.colab.kernel.accessAllowed ? 'block' : 'none';\n",
              "    })();\n",
              "  </script>\n",
              "</div>\n",
              "    </div>\n",
              "  </div>\n"
            ],
            "application/vnd.google.colaboratory.intrinsic+json": {
              "type": "dataframe",
              "summary": "{\n  \"name\": \"data\",\n  \"rows\": 8,\n  \"fields\": [\n    {\n      \"column\": \"CUST_ID\",\n      \"properties\": {\n        \"dtype\": \"number\",\n        \"std\": 46888.35155663132,\n        \"min\": 433.15701541127095,\n        \"max\": 103000.0,\n        \"num_unique_values\": 7,\n        \"samples\": [\n          1500.0,\n          102250.5,\n          102625.25\n        ],\n        \"semantic_type\": \"\",\n        \"description\": \"\"\n      }\n    },\n    {\n      \"column\": \"AGE\",\n      \"properties\": {\n        \"dtype\": \"number\",\n        \"std\": 517.1571240509836,\n        \"min\": 13.636384050766047,\n        \"max\": 1500.0,\n        \"num_unique_values\": 8,\n        \"samples\": [\n          38.892,\n          37.0,\n          1500.0\n        ],\n        \"semantic_type\": \"\",\n        \"description\": \"\"\n      }\n    },\n    {\n      \"column\": \"YRS_RESIDENCE\",\n      \"properties\": {\n        \"dtype\": \"number\",\n        \"std\": 528.7295738215728,\n        \"min\": 0.0,\n        \"max\": 1500.0,\n        \"num_unique_values\": 8,\n        \"samples\": [\n          4.088666666666667,\n          4.0,\n          1500.0\n        ],\n        \"semantic_type\": \"\",\n        \"description\": \"\"\n      }\n    },\n    {\n      \"column\": \"AFFINITY_CARD\",\n      \"properties\": {\n        \"dtype\": \"number\",\n        \"std\": 530.1944657477984,\n        \"min\": 0.0,\n        \"max\": 1500.0,\n        \"num_unique_values\": 5,\n        \"samples\": [\n          0.25333333333333335,\n          1.0,\n          0.4350652173921497\n        ],\n        \"semantic_type\": \"\",\n        \"description\": \"\"\n      }\n    },\n    {\n      \"column\": \"BULK_PACK_DISKETTES\",\n      \"properties\": {\n        \"dtype\": \"number\",\n        \"std\": 530.1225872728709,\n        \"min\": 0.0,\n        \"max\": 1500.0,\n        \"num_unique_values\": 5,\n        \"samples\": [\n          0.628,\n          1.0,\n          0.48349958417624217\n        ],\n        \"semantic_type\": \"\",\n        \"description\": \"\"\n      }\n    },\n    {\n      \"column\": \"FLAT_PANEL_MONITOR\",\n      \"properties\": {\n        \"dtype\": \"number\",\n        \"std\": 530.1244103387361,\n        \"min\": 0.0,\n        \"max\": 1500.0,\n        \"num_unique_values\": 5,\n        \"samples\": [\n          0.582,\n          1.0,\n          0.49339466170074897\n        ],\n        \"semantic_type\": \"\",\n        \"description\": \"\"\n      }\n    },\n    {\n      \"column\": \"HOME_THEATER_PACKAGE\",\n      \"properties\": {\n        \"dtype\": \"number\",\n        \"std\": 530.1246933724791,\n        \"min\": 0.0,\n        \"max\": 1500.0,\n        \"num_unique_values\": 5,\n        \"samples\": [\n          0.5753333333333334,\n          1.0,\n          0.494457157708763\n        ],\n        \"semantic_type\": \"\",\n        \"description\": \"\"\n      }\n    },\n    {\n      \"column\": \"BOOKKEEPING_APPLICATION\",\n      \"properties\": {\n        \"dtype\": \"number\",\n        \"std\": 530.06733212786,\n        \"min\": 0.0,\n        \"max\": 1500.0,\n        \"num_unique_values\": 5,\n        \"samples\": [\n          0.8806666666666667,\n          1.0,\n          0.3242884480735088\n        ],\n        \"semantic_type\": \"\",\n        \"description\": \"\"\n      }\n    },\n    {\n      \"column\": \"PRINTER_SUPPLIES\",\n      \"properties\": {\n        \"dtype\": \"number\",\n        \"std\": 530.0271556385444,\n        \"min\": 0.0,\n        \"max\": 1500.0,\n        \"num_unique_values\": 3,\n        \"samples\": [\n          1500.0,\n          1.0,\n          0.0\n        ],\n        \"semantic_type\": \"\",\n        \"description\": \"\"\n      }\n    },\n    {\n      \"column\": \"Y_BOX_GAMES\",\n      \"properties\": {\n        \"dtype\": \"number\",\n        \"std\": 530.191908084808,\n        \"min\": 0.0,\n        \"max\": 1500.0,\n        \"num_unique_values\": 5,\n        \"samples\": [\n          0.2866666666666667,\n          1.0,\n          0.4523552870912367\n        ],\n        \"semantic_type\": \"\",\n        \"description\": \"\"\n      }\n    },\n    {\n      \"column\": \"OS_DOC_SET_KANJI\",\n      \"properties\": {\n        \"dtype\": \"number\",\n        \"std\": 530.2773338731943,\n        \"min\": 0.0,\n        \"max\": 1500.0,\n        \"num_unique_values\": 5,\n        \"samples\": [\n          0.002,\n          1.0,\n          0.04469151546288826\n        ],\n        \"semantic_type\": \"\",\n        \"description\": \"\"\n      }\n    }\n  ]\n}"
            }
          },
          "metadata": {},
          "execution_count": 262
        }
      ]
    },
    {
      "cell_type": "code",
      "source": [
        "#Check if the data has any missing, null, or blank values\n",
        "data.isnull().sum()"
      ],
      "metadata": {
        "colab": {
          "base_uri": "https://localhost:8080/"
        },
        "id": "Auu4szBN9zto",
        "outputId": "3992b33a-a77e-4262-c75b-6cfdc18b4e28"
      },
      "execution_count": 263,
      "outputs": [
        {
          "output_type": "execute_result",
          "data": {
            "text/plain": [
              "CUST_ID                     0\n",
              "CUST_GENDER                 0\n",
              "AGE                         0\n",
              "CUST_MARITAL_STATUS         0\n",
              "COUNTRY_NAME                0\n",
              "CUST_INCOME_LEVEL           0\n",
              "EDUCATION                   0\n",
              "OCCUPATION                  0\n",
              "HOUSEHOLD_SIZE              0\n",
              "YRS_RESIDENCE               0\n",
              "AFFINITY_CARD               0\n",
              "BULK_PACK_DISKETTES         0\n",
              "FLAT_PANEL_MONITOR          0\n",
              "HOME_THEATER_PACKAGE        0\n",
              "BOOKKEEPING_APPLICATION     0\n",
              "PRINTER_SUPPLIES            0\n",
              "Y_BOX_GAMES                 0\n",
              "OS_DOC_SET_KANJI            0\n",
              "COMMENTS                   73\n",
              "dtype: int64"
            ]
          },
          "metadata": {},
          "execution_count": 263
        }
      ]
    },
    {
      "cell_type": "code",
      "source": [
        "#Checking data for age errors\n",
        "age_errors = data[(data['AGE'] < 0) | (data['AGE'] > 120)]\n",
        "print(age_errors)"
      ],
      "metadata": {
        "colab": {
          "base_uri": "https://localhost:8080/"
        },
        "id": "KlYhfmxsAU5Z",
        "outputId": "ddc48bf7-184a-4a2f-85f1-ff1ee101d999"
      },
      "execution_count": 264,
      "outputs": [
        {
          "output_type": "stream",
          "name": "stdout",
          "text": [
            "Empty DataFrame\n",
            "Columns: [CUST_ID, CUST_GENDER, AGE, CUST_MARITAL_STATUS, COUNTRY_NAME, CUST_INCOME_LEVEL, EDUCATION, OCCUPATION, HOUSEHOLD_SIZE, YRS_RESIDENCE, AFFINITY_CARD, BULK_PACK_DISKETTES, FLAT_PANEL_MONITOR, HOME_THEATER_PACKAGE, BOOKKEEPING_APPLICATION, PRINTER_SUPPLIES, Y_BOX_GAMES, OS_DOC_SET_KANJI, COMMENTS]\n",
            "Index: []\n"
          ]
        }
      ]
    },
    {
      "cell_type": "code",
      "source": [
        "#Checking household size column for errors\n",
        "data['HOUSEHOLD_SIZE'].unique()"
      ],
      "metadata": {
        "colab": {
          "base_uri": "https://localhost:8080/"
        },
        "id": "vELI95xGd4ef",
        "outputId": "55f94a1e-234a-4712-eb1e-b3d18fb397f9"
      },
      "execution_count": 265,
      "outputs": [
        {
          "output_type": "execute_result",
          "data": {
            "text/plain": [
              "array(['2', '3', '9+', '06-Aug', '1', '04-May'], dtype=object)"
            ]
          },
          "metadata": {},
          "execution_count": 265
        }
      ]
    },
    {
      "cell_type": "code",
      "source": [
        "#Reducing variables\n",
        "del_var = ['CUST_ID', 'COMMENTS', 'BULK_PACK_DISKETTES', 'FLAT_PANEL_MONITOR', 'HOME_THEATER_PACKAGE', 'BOOKKEEPING_APPLICATION','PRINTER_SUPPLIES', 'Y_BOX_GAMES', 'OS_DOC_SET_KANJI']\n",
        "#deleting unneccessary variables\n",
        "data = data.drop(del_var, axis=1)\n"
      ],
      "metadata": {
        "id": "i3iz8DapB2N_"
      },
      "execution_count": 266,
      "outputs": []
    },
    {
      "cell_type": "code",
      "source": [
        "#There are no missing values to be removed\n",
        "data.isna().sum()\n"
      ],
      "metadata": {
        "colab": {
          "base_uri": "https://localhost:8080/"
        },
        "id": "5meH4MLnDZ0k",
        "outputId": "f51e56d7-19fd-4d3d-e74b-c643a9087d1c"
      },
      "execution_count": 267,
      "outputs": [
        {
          "output_type": "execute_result",
          "data": {
            "text/plain": [
              "CUST_GENDER            0\n",
              "AGE                    0\n",
              "CUST_MARITAL_STATUS    0\n",
              "COUNTRY_NAME           0\n",
              "CUST_INCOME_LEVEL      0\n",
              "EDUCATION              0\n",
              "OCCUPATION             0\n",
              "HOUSEHOLD_SIZE         0\n",
              "YRS_RESIDENCE          0\n",
              "AFFINITY_CARD          0\n",
              "dtype: int64"
            ]
          },
          "metadata": {},
          "execution_count": 267
        }
      ]
    },
    {
      "cell_type": "code",
      "source": [
        "#Removing errors in HOUSEHOLD_SIZE column\n",
        "data= data.drop(data[(data['HOUSEHOLD_SIZE'] == '06-Aug') | (data['HOUSEHOLD_SIZE'] == '04-May')].index)"
      ],
      "metadata": {
        "id": "aG1WOFW9fa4u"
      },
      "execution_count": 268,
      "outputs": []
    },
    {
      "cell_type": "code",
      "source": [
        "#Transform CUST_GENDER into binary F - 0, M -1\n",
        "data['CUST_GENDER'] = data['CUST_GENDER'].replace({'F': 0, 'M': 1})"
      ],
      "metadata": {
        "id": "Zg-CfoMEIuA5"
      },
      "execution_count": 269,
      "outputs": []
    },
    {
      "cell_type": "code",
      "source": [
        "#Transform COUNTRY_NAME into ordinal number based on their occurrence\n",
        "data['COUNTRY_NAME'] = data['COUNTRY_NAME'].astype('category').cat.codes + 1\n"
      ],
      "metadata": {
        "id": "eIwKLndUJRYX"
      },
      "execution_count": 270,
      "outputs": []
    },
    {
      "cell_type": "code",
      "source": [
        "#Transform CUST_INCOME_LEVEL into 3 ordinal levels 1 – low income. 2 -middle income, and 3 – high income.\n",
        "data['CUST_INCOME_LEVEL'] = data['CUST_INCOME_LEVEL'].replace( {'A: Below 30,000': 1,'B: 30,000 - 49,999': 1, 'C: 50,000 - 69,999':1,'D: 70,000 - 89,999':1, 'E: 90,000 - 109,999':2,'F: 110,000 - 129,999':2, 'G: 130,000 - 149,999':2, 'H: 150,000 - 169,999':2,'I: 170,000 - 189,999':3, 'J: 190,000 - 249,999':3, 'K: 250,000 - 299,999':3, 'L: 300,000 and above':3})\n"
      ],
      "metadata": {
        "id": "USvhL6ODVTjV"
      },
      "execution_count": 271,
      "outputs": []
    },
    {
      "cell_type": "code",
      "source": [
        "#Transforming EDUCATION into ordinal numbers based on USA education level in ascending order\n",
        "data['EDUCATION'] = data['EDUCATION'].replace({'Presch.': 1,'1st-4th': 2,\n",
        "    '5th-6th': 3,\n",
        "    '7th-8th': 4,\n",
        "    '9th': 5,\n",
        "    '10th': 6,\n",
        "    '11th': 7,\n",
        "    '12th': 8,\n",
        "    'HS-grad': 9,\n",
        "    '< Bach.': 10,\n",
        "    'Assoc-V': 11,\n",
        "    'Assoc-A': 12,\n",
        "    'Bach.': 13,\n",
        "    'Masters': 14,\n",
        "    'Profsc': 15,\n",
        "    'PhD': 16})\n"
      ],
      "metadata": {
        "id": "UPSIFeVfJ67O"
      },
      "execution_count": 272,
      "outputs": []
    },
    {
      "cell_type": "code",
      "source": [
        "#Transform HOUSEHOLD_SIZE into ordinal numbers based on number of people\n",
        "data['HOUSEHOLD_SIZE'] = data['HOUSEHOLD_SIZE'].replace({'1': 1, '2': 2, '3':3, '9+':4})\n"
      ],
      "metadata": {
        "id": "5FdN7wRCLT77"
      },
      "execution_count": 273,
      "outputs": []
    },
    {
      "cell_type": "code",
      "source": [
        "#Verify the data now contains ordinal numbers for the specified columns\n",
        "data"
      ],
      "metadata": {
        "colab": {
          "base_uri": "https://localhost:8080/",
          "height": 443
        },
        "id": "vH5saxeZMotK",
        "outputId": "369235da-941b-459c-b6c4-da239a26d7db"
      },
      "execution_count": 274,
      "outputs": [
        {
          "output_type": "execute_result",
          "data": {
            "text/plain": [
              "      CUST_GENDER  AGE CUST_MARITAL_STATUS  COUNTRY_NAME  CUST_INCOME_LEVEL  \\\n",
              "0               0   41              NeverM            18                  3   \n",
              "1               1   27              NeverM            18                  3   \n",
              "2               0   20              NeverM            18                  2   \n",
              "3               1   45             Married            18                  1   \n",
              "4               1   34              NeverM            18                  3   \n",
              "...           ...  ...                 ...           ...                ...   \n",
              "1495            1   17              NeverM            18                  1   \n",
              "1496            1   41             Married            15                  3   \n",
              "1497            1   53             Married            18                  3   \n",
              "1498            1   55             Married            18                  1   \n",
              "1499            0   40             Divorc.            18                  2   \n",
              "\n",
              "      EDUCATION OCCUPATION  HOUSEHOLD_SIZE  YRS_RESIDENCE  AFFINITY_CARD  \n",
              "0            14      Prof.               2              4              0  \n",
              "1            13      Sales               2              3              0  \n",
              "2             9    Cleric.               2              2              0  \n",
              "3            13      Exec.               3              5              1  \n",
              "4            14      Sales               4              5              1  \n",
              "...         ...        ...             ...            ...            ...  \n",
              "1495          6      Other               1              1              0  \n",
              "1496         13      Exec.               3              4              0  \n",
              "1497          9      Exec.               3              8              1  \n",
              "1498          9    Cleric.               3              7              1  \n",
              "1499          9    Cleric.               2              3              0  \n",
              "\n",
              "[1381 rows x 10 columns]"
            ],
            "text/html": [
              "\n",
              "  <div id=\"df-850fe6ac-313b-4ac1-9fba-38f1bfe229a0\" class=\"colab-df-container\">\n",
              "    <div>\n",
              "<style scoped>\n",
              "    .dataframe tbody tr th:only-of-type {\n",
              "        vertical-align: middle;\n",
              "    }\n",
              "\n",
              "    .dataframe tbody tr th {\n",
              "        vertical-align: top;\n",
              "    }\n",
              "\n",
              "    .dataframe thead th {\n",
              "        text-align: right;\n",
              "    }\n",
              "</style>\n",
              "<table border=\"1\" class=\"dataframe\">\n",
              "  <thead>\n",
              "    <tr style=\"text-align: right;\">\n",
              "      <th></th>\n",
              "      <th>CUST_GENDER</th>\n",
              "      <th>AGE</th>\n",
              "      <th>CUST_MARITAL_STATUS</th>\n",
              "      <th>COUNTRY_NAME</th>\n",
              "      <th>CUST_INCOME_LEVEL</th>\n",
              "      <th>EDUCATION</th>\n",
              "      <th>OCCUPATION</th>\n",
              "      <th>HOUSEHOLD_SIZE</th>\n",
              "      <th>YRS_RESIDENCE</th>\n",
              "      <th>AFFINITY_CARD</th>\n",
              "    </tr>\n",
              "  </thead>\n",
              "  <tbody>\n",
              "    <tr>\n",
              "      <th>0</th>\n",
              "      <td>0</td>\n",
              "      <td>41</td>\n",
              "      <td>NeverM</td>\n",
              "      <td>18</td>\n",
              "      <td>3</td>\n",
              "      <td>14</td>\n",
              "      <td>Prof.</td>\n",
              "      <td>2</td>\n",
              "      <td>4</td>\n",
              "      <td>0</td>\n",
              "    </tr>\n",
              "    <tr>\n",
              "      <th>1</th>\n",
              "      <td>1</td>\n",
              "      <td>27</td>\n",
              "      <td>NeverM</td>\n",
              "      <td>18</td>\n",
              "      <td>3</td>\n",
              "      <td>13</td>\n",
              "      <td>Sales</td>\n",
              "      <td>2</td>\n",
              "      <td>3</td>\n",
              "      <td>0</td>\n",
              "    </tr>\n",
              "    <tr>\n",
              "      <th>2</th>\n",
              "      <td>0</td>\n",
              "      <td>20</td>\n",
              "      <td>NeverM</td>\n",
              "      <td>18</td>\n",
              "      <td>2</td>\n",
              "      <td>9</td>\n",
              "      <td>Cleric.</td>\n",
              "      <td>2</td>\n",
              "      <td>2</td>\n",
              "      <td>0</td>\n",
              "    </tr>\n",
              "    <tr>\n",
              "      <th>3</th>\n",
              "      <td>1</td>\n",
              "      <td>45</td>\n",
              "      <td>Married</td>\n",
              "      <td>18</td>\n",
              "      <td>1</td>\n",
              "      <td>13</td>\n",
              "      <td>Exec.</td>\n",
              "      <td>3</td>\n",
              "      <td>5</td>\n",
              "      <td>1</td>\n",
              "    </tr>\n",
              "    <tr>\n",
              "      <th>4</th>\n",
              "      <td>1</td>\n",
              "      <td>34</td>\n",
              "      <td>NeverM</td>\n",
              "      <td>18</td>\n",
              "      <td>3</td>\n",
              "      <td>14</td>\n",
              "      <td>Sales</td>\n",
              "      <td>4</td>\n",
              "      <td>5</td>\n",
              "      <td>1</td>\n",
              "    </tr>\n",
              "    <tr>\n",
              "      <th>...</th>\n",
              "      <td>...</td>\n",
              "      <td>...</td>\n",
              "      <td>...</td>\n",
              "      <td>...</td>\n",
              "      <td>...</td>\n",
              "      <td>...</td>\n",
              "      <td>...</td>\n",
              "      <td>...</td>\n",
              "      <td>...</td>\n",
              "      <td>...</td>\n",
              "    </tr>\n",
              "    <tr>\n",
              "      <th>1495</th>\n",
              "      <td>1</td>\n",
              "      <td>17</td>\n",
              "      <td>NeverM</td>\n",
              "      <td>18</td>\n",
              "      <td>1</td>\n",
              "      <td>6</td>\n",
              "      <td>Other</td>\n",
              "      <td>1</td>\n",
              "      <td>1</td>\n",
              "      <td>0</td>\n",
              "    </tr>\n",
              "    <tr>\n",
              "      <th>1496</th>\n",
              "      <td>1</td>\n",
              "      <td>41</td>\n",
              "      <td>Married</td>\n",
              "      <td>15</td>\n",
              "      <td>3</td>\n",
              "      <td>13</td>\n",
              "      <td>Exec.</td>\n",
              "      <td>3</td>\n",
              "      <td>4</td>\n",
              "      <td>0</td>\n",
              "    </tr>\n",
              "    <tr>\n",
              "      <th>1497</th>\n",
              "      <td>1</td>\n",
              "      <td>53</td>\n",
              "      <td>Married</td>\n",
              "      <td>18</td>\n",
              "      <td>3</td>\n",
              "      <td>9</td>\n",
              "      <td>Exec.</td>\n",
              "      <td>3</td>\n",
              "      <td>8</td>\n",
              "      <td>1</td>\n",
              "    </tr>\n",
              "    <tr>\n",
              "      <th>1498</th>\n",
              "      <td>1</td>\n",
              "      <td>55</td>\n",
              "      <td>Married</td>\n",
              "      <td>18</td>\n",
              "      <td>1</td>\n",
              "      <td>9</td>\n",
              "      <td>Cleric.</td>\n",
              "      <td>3</td>\n",
              "      <td>7</td>\n",
              "      <td>1</td>\n",
              "    </tr>\n",
              "    <tr>\n",
              "      <th>1499</th>\n",
              "      <td>0</td>\n",
              "      <td>40</td>\n",
              "      <td>Divorc.</td>\n",
              "      <td>18</td>\n",
              "      <td>2</td>\n",
              "      <td>9</td>\n",
              "      <td>Cleric.</td>\n",
              "      <td>2</td>\n",
              "      <td>3</td>\n",
              "      <td>0</td>\n",
              "    </tr>\n",
              "  </tbody>\n",
              "</table>\n",
              "<p>1381 rows × 10 columns</p>\n",
              "</div>\n",
              "    <div class=\"colab-df-buttons\">\n",
              "\n",
              "  <div class=\"colab-df-container\">\n",
              "    <button class=\"colab-df-convert\" onclick=\"convertToInteractive('df-850fe6ac-313b-4ac1-9fba-38f1bfe229a0')\"\n",
              "            title=\"Convert this dataframe to an interactive table.\"\n",
              "            style=\"display:none;\">\n",
              "\n",
              "  <svg xmlns=\"http://www.w3.org/2000/svg\" height=\"24px\" viewBox=\"0 -960 960 960\">\n",
              "    <path d=\"M120-120v-720h720v720H120Zm60-500h600v-160H180v160Zm220 220h160v-160H400v160Zm0 220h160v-160H400v160ZM180-400h160v-160H180v160Zm440 0h160v-160H620v160ZM180-180h160v-160H180v160Zm440 0h160v-160H620v160Z\"/>\n",
              "  </svg>\n",
              "    </button>\n",
              "\n",
              "  <style>\n",
              "    .colab-df-container {\n",
              "      display:flex;\n",
              "      gap: 12px;\n",
              "    }\n",
              "\n",
              "    .colab-df-convert {\n",
              "      background-color: #E8F0FE;\n",
              "      border: none;\n",
              "      border-radius: 50%;\n",
              "      cursor: pointer;\n",
              "      display: none;\n",
              "      fill: #1967D2;\n",
              "      height: 32px;\n",
              "      padding: 0 0 0 0;\n",
              "      width: 32px;\n",
              "    }\n",
              "\n",
              "    .colab-df-convert:hover {\n",
              "      background-color: #E2EBFA;\n",
              "      box-shadow: 0px 1px 2px rgba(60, 64, 67, 0.3), 0px 1px 3px 1px rgba(60, 64, 67, 0.15);\n",
              "      fill: #174EA6;\n",
              "    }\n",
              "\n",
              "    .colab-df-buttons div {\n",
              "      margin-bottom: 4px;\n",
              "    }\n",
              "\n",
              "    [theme=dark] .colab-df-convert {\n",
              "      background-color: #3B4455;\n",
              "      fill: #D2E3FC;\n",
              "    }\n",
              "\n",
              "    [theme=dark] .colab-df-convert:hover {\n",
              "      background-color: #434B5C;\n",
              "      box-shadow: 0px 1px 3px 1px rgba(0, 0, 0, 0.15);\n",
              "      filter: drop-shadow(0px 1px 2px rgba(0, 0, 0, 0.3));\n",
              "      fill: #FFFFFF;\n",
              "    }\n",
              "  </style>\n",
              "\n",
              "    <script>\n",
              "      const buttonEl =\n",
              "        document.querySelector('#df-850fe6ac-313b-4ac1-9fba-38f1bfe229a0 button.colab-df-convert');\n",
              "      buttonEl.style.display =\n",
              "        google.colab.kernel.accessAllowed ? 'block' : 'none';\n",
              "\n",
              "      async function convertToInteractive(key) {\n",
              "        const element = document.querySelector('#df-850fe6ac-313b-4ac1-9fba-38f1bfe229a0');\n",
              "        const dataTable =\n",
              "          await google.colab.kernel.invokeFunction('convertToInteractive',\n",
              "                                                    [key], {});\n",
              "        if (!dataTable) return;\n",
              "\n",
              "        const docLinkHtml = 'Like what you see? Visit the ' +\n",
              "          '<a target=\"_blank\" href=https://colab.research.google.com/notebooks/data_table.ipynb>data table notebook</a>'\n",
              "          + ' to learn more about interactive tables.';\n",
              "        element.innerHTML = '';\n",
              "        dataTable['output_type'] = 'display_data';\n",
              "        await google.colab.output.renderOutput(dataTable, element);\n",
              "        const docLink = document.createElement('div');\n",
              "        docLink.innerHTML = docLinkHtml;\n",
              "        element.appendChild(docLink);\n",
              "      }\n",
              "    </script>\n",
              "  </div>\n",
              "\n",
              "\n",
              "<div id=\"df-280a1392-dae4-411f-8181-1ea03e430837\">\n",
              "  <button class=\"colab-df-quickchart\" onclick=\"quickchart('df-280a1392-dae4-411f-8181-1ea03e430837')\"\n",
              "            title=\"Suggest charts\"\n",
              "            style=\"display:none;\">\n",
              "\n",
              "<svg xmlns=\"http://www.w3.org/2000/svg\" height=\"24px\"viewBox=\"0 0 24 24\"\n",
              "     width=\"24px\">\n",
              "    <g>\n",
              "        <path d=\"M19 3H5c-1.1 0-2 .9-2 2v14c0 1.1.9 2 2 2h14c1.1 0 2-.9 2-2V5c0-1.1-.9-2-2-2zM9 17H7v-7h2v7zm4 0h-2V7h2v10zm4 0h-2v-4h2v4z\"/>\n",
              "    </g>\n",
              "</svg>\n",
              "  </button>\n",
              "\n",
              "<style>\n",
              "  .colab-df-quickchart {\n",
              "      --bg-color: #E8F0FE;\n",
              "      --fill-color: #1967D2;\n",
              "      --hover-bg-color: #E2EBFA;\n",
              "      --hover-fill-color: #174EA6;\n",
              "      --disabled-fill-color: #AAA;\n",
              "      --disabled-bg-color: #DDD;\n",
              "  }\n",
              "\n",
              "  [theme=dark] .colab-df-quickchart {\n",
              "      --bg-color: #3B4455;\n",
              "      --fill-color: #D2E3FC;\n",
              "      --hover-bg-color: #434B5C;\n",
              "      --hover-fill-color: #FFFFFF;\n",
              "      --disabled-bg-color: #3B4455;\n",
              "      --disabled-fill-color: #666;\n",
              "  }\n",
              "\n",
              "  .colab-df-quickchart {\n",
              "    background-color: var(--bg-color);\n",
              "    border: none;\n",
              "    border-radius: 50%;\n",
              "    cursor: pointer;\n",
              "    display: none;\n",
              "    fill: var(--fill-color);\n",
              "    height: 32px;\n",
              "    padding: 0;\n",
              "    width: 32px;\n",
              "  }\n",
              "\n",
              "  .colab-df-quickchart:hover {\n",
              "    background-color: var(--hover-bg-color);\n",
              "    box-shadow: 0 1px 2px rgba(60, 64, 67, 0.3), 0 1px 3px 1px rgba(60, 64, 67, 0.15);\n",
              "    fill: var(--button-hover-fill-color);\n",
              "  }\n",
              "\n",
              "  .colab-df-quickchart-complete:disabled,\n",
              "  .colab-df-quickchart-complete:disabled:hover {\n",
              "    background-color: var(--disabled-bg-color);\n",
              "    fill: var(--disabled-fill-color);\n",
              "    box-shadow: none;\n",
              "  }\n",
              "\n",
              "  .colab-df-spinner {\n",
              "    border: 2px solid var(--fill-color);\n",
              "    border-color: transparent;\n",
              "    border-bottom-color: var(--fill-color);\n",
              "    animation:\n",
              "      spin 1s steps(1) infinite;\n",
              "  }\n",
              "\n",
              "  @keyframes spin {\n",
              "    0% {\n",
              "      border-color: transparent;\n",
              "      border-bottom-color: var(--fill-color);\n",
              "      border-left-color: var(--fill-color);\n",
              "    }\n",
              "    20% {\n",
              "      border-color: transparent;\n",
              "      border-left-color: var(--fill-color);\n",
              "      border-top-color: var(--fill-color);\n",
              "    }\n",
              "    30% {\n",
              "      border-color: transparent;\n",
              "      border-left-color: var(--fill-color);\n",
              "      border-top-color: var(--fill-color);\n",
              "      border-right-color: var(--fill-color);\n",
              "    }\n",
              "    40% {\n",
              "      border-color: transparent;\n",
              "      border-right-color: var(--fill-color);\n",
              "      border-top-color: var(--fill-color);\n",
              "    }\n",
              "    60% {\n",
              "      border-color: transparent;\n",
              "      border-right-color: var(--fill-color);\n",
              "    }\n",
              "    80% {\n",
              "      border-color: transparent;\n",
              "      border-right-color: var(--fill-color);\n",
              "      border-bottom-color: var(--fill-color);\n",
              "    }\n",
              "    90% {\n",
              "      border-color: transparent;\n",
              "      border-bottom-color: var(--fill-color);\n",
              "    }\n",
              "  }\n",
              "</style>\n",
              "\n",
              "  <script>\n",
              "    async function quickchart(key) {\n",
              "      const quickchartButtonEl =\n",
              "        document.querySelector('#' + key + ' button');\n",
              "      quickchartButtonEl.disabled = true;  // To prevent multiple clicks.\n",
              "      quickchartButtonEl.classList.add('colab-df-spinner');\n",
              "      try {\n",
              "        const charts = await google.colab.kernel.invokeFunction(\n",
              "            'suggestCharts', [key], {});\n",
              "      } catch (error) {\n",
              "        console.error('Error during call to suggestCharts:', error);\n",
              "      }\n",
              "      quickchartButtonEl.classList.remove('colab-df-spinner');\n",
              "      quickchartButtonEl.classList.add('colab-df-quickchart-complete');\n",
              "    }\n",
              "    (() => {\n",
              "      let quickchartButtonEl =\n",
              "        document.querySelector('#df-280a1392-dae4-411f-8181-1ea03e430837 button');\n",
              "      quickchartButtonEl.style.display =\n",
              "        google.colab.kernel.accessAllowed ? 'block' : 'none';\n",
              "    })();\n",
              "  </script>\n",
              "</div>\n",
              "    </div>\n",
              "  </div>\n"
            ],
            "application/vnd.google.colaboratory.intrinsic+json": {
              "type": "dataframe",
              "variable_name": "data",
              "summary": "{\n  \"name\": \"data\",\n  \"rows\": 1381,\n  \"fields\": [\n    {\n      \"column\": \"CUST_GENDER\",\n      \"properties\": {\n        \"dtype\": \"number\",\n        \"std\": 0,\n        \"min\": 0,\n        \"max\": 1,\n        \"num_unique_values\": 2,\n        \"samples\": [\n          1,\n          0\n        ],\n        \"semantic_type\": \"\",\n        \"description\": \"\"\n      }\n    },\n    {\n      \"column\": \"AGE\",\n      \"properties\": {\n        \"dtype\": \"number\",\n        \"std\": 13,\n        \"min\": 17,\n        \"max\": 90,\n        \"num_unique_values\": 66,\n        \"samples\": [\n          58,\n          79\n        ],\n        \"semantic_type\": \"\",\n        \"description\": \"\"\n      }\n    },\n    {\n      \"column\": \"CUST_MARITAL_STATUS\",\n      \"properties\": {\n        \"dtype\": \"category\",\n        \"num_unique_values\": 6,\n        \"samples\": [\n          \"NeverM\",\n          \"Married\"\n        ],\n        \"semantic_type\": \"\",\n        \"description\": \"\"\n      }\n    },\n    {\n      \"column\": \"COUNTRY_NAME\",\n      \"properties\": {\n        \"dtype\": \"int8\",\n        \"num_unique_values\": 18,\n        \"samples\": [\n          18,\n          3\n        ],\n        \"semantic_type\": \"\",\n        \"description\": \"\"\n      }\n    },\n    {\n      \"column\": \"CUST_INCOME_LEVEL\",\n      \"properties\": {\n        \"dtype\": \"number\",\n        \"std\": 0,\n        \"min\": 1,\n        \"max\": 3,\n        \"num_unique_values\": 3,\n        \"samples\": [\n          3,\n          2\n        ],\n        \"semantic_type\": \"\",\n        \"description\": \"\"\n      }\n    },\n    {\n      \"column\": \"EDUCATION\",\n      \"properties\": {\n        \"dtype\": \"number\",\n        \"std\": 2,\n        \"min\": 1,\n        \"max\": 16,\n        \"num_unique_values\": 16,\n        \"samples\": [\n          14,\n          13\n        ],\n        \"semantic_type\": \"\",\n        \"description\": \"\"\n      }\n    },\n    {\n      \"column\": \"OCCUPATION\",\n      \"properties\": {\n        \"dtype\": \"category\",\n        \"num_unique_values\": 15,\n        \"samples\": [\n          \"?\",\n          \"TechSup\"\n        ],\n        \"semantic_type\": \"\",\n        \"description\": \"\"\n      }\n    },\n    {\n      \"column\": \"HOUSEHOLD_SIZE\",\n      \"properties\": {\n        \"dtype\": \"number\",\n        \"std\": 0,\n        \"min\": 1,\n        \"max\": 4,\n        \"num_unique_values\": 4,\n        \"samples\": [\n          3,\n          1\n        ],\n        \"semantic_type\": \"\",\n        \"description\": \"\"\n      }\n    },\n    {\n      \"column\": \"YRS_RESIDENCE\",\n      \"properties\": {\n        \"dtype\": \"number\",\n        \"std\": 1,\n        \"min\": 0,\n        \"max\": 14,\n        \"num_unique_values\": 15,\n        \"samples\": [\n          0,\n          11\n        ],\n        \"semantic_type\": \"\",\n        \"description\": \"\"\n      }\n    },\n    {\n      \"column\": \"AFFINITY_CARD\",\n      \"properties\": {\n        \"dtype\": \"number\",\n        \"std\": 0,\n        \"min\": 0,\n        \"max\": 1,\n        \"num_unique_values\": 2,\n        \"samples\": [\n          1,\n          0\n        ],\n        \"semantic_type\": \"\",\n        \"description\": \"\"\n      }\n    }\n  ]\n}"
            }
          },
          "metadata": {},
          "execution_count": 274
        }
      ]
    },
    {
      "cell_type": "code",
      "source": [
        "#Calculating Summary Statistics\n",
        "Summary_Stats = data.describe()\n",
        "#Calculating Skewness and Kurtosis only for numerical columns\n",
        "numerical_cols = data.select_dtypes(include=['int', 'float']).columns\n",
        "skewness = data[numerical_cols].apply(skew)\n",
        "kurt = data[numerical_cols].apply(kurtosis)\n"
      ],
      "metadata": {
        "id": "qunyUm8rXIVi"
      },
      "execution_count": 275,
      "outputs": []
    },
    {
      "cell_type": "code",
      "source": [
        "#Create a seperate dataframe for skewness and kurtosis\n",
        "skew_kurt_df = pd.DataFrame({'skewness': skewness, 'kurtosis': kurt})"
      ],
      "metadata": {
        "id": "4g36Buk6bQOD"
      },
      "execution_count": 276,
      "outputs": []
    },
    {
      "cell_type": "code",
      "source": [
        "#Combine summary stats and skew_kurt dataframe\n",
        "summary_stats_with_skew_kurt = pd.concat([Summary_Stats, skew_kurt_df.T])"
      ],
      "metadata": {
        "id": "XyLKrKcDbVhq"
      },
      "execution_count": 277,
      "outputs": []
    },
    {
      "cell_type": "code",
      "source": [
        "#summary statistics of all variables\n",
        "print(\"Summary Statistics with Skewness and Kurtosis:\")\n",
        "print(summary_stats_with_skew_kurt)"
      ],
      "metadata": {
        "colab": {
          "base_uri": "https://localhost:8080/"
        },
        "id": "ZCstZTXQZuLP",
        "outputId": "31e37250-0a9c-445e-b5bc-d3990c7a8d81"
      },
      "execution_count": 278,
      "outputs": [
        {
          "output_type": "stream",
          "name": "stdout",
          "text": [
            "Summary Statistics with Skewness and Kurtosis:\n",
            "          CUST_GENDER          AGE  COUNTRY_NAME  CUST_INCOME_LEVEL  \\\n",
            "count     1381.000000  1381.000000   1381.000000        1381.000000   \n",
            "mean         0.708907    39.069515     16.855177           2.409848   \n",
            "std          0.454431    13.576710      3.768196           0.740166   \n",
            "min          0.000000    17.000000      1.000000           1.000000   \n",
            "25%          0.000000    28.000000     18.000000           2.000000   \n",
            "50%          1.000000    38.000000     18.000000           3.000000   \n",
            "75%          1.000000    48.000000     18.000000           3.000000   \n",
            "max          1.000000    90.000000     18.000000           3.000000   \n",
            "skewness    -0.919753     0.577598           NaN          -0.819907   \n",
            "kurtosis    -1.154054     0.004470           NaN          -0.731341   \n",
            "\n",
            "            EDUCATION  HOUSEHOLD_SIZE  YRS_RESIDENCE  AFFINITY_CARD  \n",
            "count     1381.000000     1381.000000    1381.000000    1381.000000  \n",
            "mean        10.188993        2.542361       4.143374       0.251267  \n",
            "std          2.533782        0.889867       1.933985       0.433899  \n",
            "min          1.000000        1.000000       0.000000       0.000000  \n",
            "25%          9.000000        2.000000       3.000000       0.000000  \n",
            "50%         10.000000        3.000000       4.000000       0.000000  \n",
            "75%         13.000000        3.000000       5.000000       1.000000  \n",
            "max         16.000000        4.000000      14.000000       1.000000  \n",
            "skewness    -0.183490       -0.279148       0.772212       1.146916  \n",
            "kurtosis     0.571483       -0.692238       1.619821      -0.684583  \n"
          ]
        }
      ]
    },
    {
      "cell_type": "code",
      "source": [
        "#Python program to show histogram plot of a selected variable\n",
        "def plot_histogram(columns, data):\n",
        "    for col in columns:\n",
        "        plt.figure(figsize=(8, 6))\n",
        "        plt.hist(data[col], bins=20, color='skyblue', edgecolor='black')\n",
        "        plt.title(f'Histogram of {col}')\n",
        "        plt.xlabel(col)\n",
        "        plt.ylabel('Frequency')\n",
        "        plt.grid(True)\n",
        "        plt.show()\n"
      ],
      "metadata": {
        "id": "pdzIObp74BcK"
      },
      "execution_count": 279,
      "outputs": []
    },
    {
      "cell_type": "code",
      "source": [
        "#Show histogram plot of a variable which allows a user to choose in runtime\n",
        "while True:\n",
        "    print(\"Choose a variable to plot histogram (or type 'exit' to quit):\")\n",
        "    print(\"\\n\".join([f\"{i+1}. {col}\" for i, col in enumerate(data.columns)]))\n",
        "    choice = input(\"Enter your choice: \")\n",
        "\n",
        "    if choice.lower() == 'exit':\n",
        "        break\n",
        "    elif choice.isdigit() and 1 <= int(choice) <= len(data.columns):\n",
        "        column_index = int(choice) - 1\n",
        "        selected_variable = data.columns[column_index]\n",
        "        plot_histogram([selected_variable], data)\n",
        "    else:\n",
        "        print(\"Invalid choice. Please try again.\\n\")"
      ],
      "metadata": {
        "colab": {
          "base_uri": "https://localhost:8080/",
          "height": 981
        },
        "id": "uySUDm_p4NlP",
        "outputId": "e1d487d5-b7f5-4f1c-9796-439ec03e2223"
      },
      "execution_count": 295,
      "outputs": [
        {
          "name": "stdout",
          "output_type": "stream",
          "text": [
            "Choose a variable to plot histogram (or type 'exit' to quit):\n",
            "1. CUST_GENDER\n",
            "2. AGE\n",
            "3. CUST_MARITAL_STATUS\n",
            "4. COUNTRY_NAME\n",
            "5. CUST_INCOME_LEVEL\n",
            "6. EDUCATION\n",
            "7. OCCUPATION\n",
            "8. HOUSEHOLD_SIZE\n",
            "9. YRS_RESIDENCE\n",
            "10. AFFINITY_CARD\n",
            "Enter your choice: 2\n"
          ]
        },
        {
          "output_type": "display_data",
          "data": {
            "text/plain": [
              "<Figure size 800x600 with 1 Axes>"
            ],
            "image/png": "[encoded data removed]"
          },
          "metadata": {}
        },
        {
          "name": "stdout",
          "output_type": "stream",
          "text": [
            "Choose a variable to plot histogram (or type 'exit' to quit):\n",
            "1. CUST_GENDER\n",
            "2. AGE\n",
            "3. CUST_MARITAL_STATUS\n",
            "4. COUNTRY_NAME\n",
            "5. CUST_INCOME_LEVEL\n",
            "6. EDUCATION\n",
            "7. OCCUPATION\n",
            "8. HOUSEHOLD_SIZE\n",
            "9. YRS_RESIDENCE\n",
            "10. AFFINITY_CARD\n",
            "Enter your choice: exit\n"
          ]
        }
      ]
    },
    {
      "cell_type": "code",
      "source": [
        "#\tselecting 1000 random customer records from the transformed data\n",
        "#Random state parameter ensures reproducability of data\n",
        "LogisticRegressionData = data.sample(n=1000, random_state=20)\n",
        "LogisticRegressionData.info()"
      ],
      "metadata": {
        "colab": {
          "base_uri": "https://localhost:8080/"
        },
        "id": "3AuLY4Imdua1",
        "outputId": "8f01d9c8-a8bb-41d1-f90c-653c4f985f26"
      },
      "execution_count": 282,
      "outputs": [
        {
          "output_type": "stream",
          "name": "stdout",
          "text": [
            "<class 'pandas.core.frame.DataFrame'>\n",
            "Index: 1000 entries, 1197 to 482\n",
            "Data columns (total 10 columns):\n",
            " #   Column               Non-Null Count  Dtype \n",
            "---  ------               --------------  ----- \n",
            " 0   CUST_GENDER          1000 non-null   int64 \n",
            " 1   AGE                  1000 non-null   int64 \n",
            " 2   CUST_MARITAL_STATUS  1000 non-null   object\n",
            " 3   COUNTRY_NAME         1000 non-null   int8  \n",
            " 4   CUST_INCOME_LEVEL    1000 non-null   int64 \n",
            " 5   EDUCATION            1000 non-null   int64 \n",
            " 6   OCCUPATION           1000 non-null   object\n",
            " 7   HOUSEHOLD_SIZE       1000 non-null   int64 \n",
            " 8   YRS_RESIDENCE        1000 non-null   int64 \n",
            " 9   AFFINITY_CARD        1000 non-null   int64 \n",
            "dtypes: int64(7), int8(1), object(2)\n",
            "memory usage: 79.1+ KB\n"
          ]
        }
      ]
    },
    {
      "cell_type": "code",
      "source": [
        "#Removing Non-numeric columns from the LogisticRegression dataframe\n",
        "LogisticRegressionData = LogisticRegressionData.drop(columns=['CUST_MARITAL_STATUS', 'OCCUPATION'])"
      ],
      "metadata": {
        "id": "BL4vLquIkAvM"
      },
      "execution_count": 283,
      "outputs": []
    },
    {
      "cell_type": "code",
      "source": [
        "#Assign values to x and y\n",
        "X = LogisticRegressionData.iloc[:, :-1]\n",
        "y  = LogisticRegressionData.iloc[:,-1]"
      ],
      "metadata": {
        "id": "WUTaCblTiA-o"
      },
      "execution_count": 284,
      "outputs": []
    },
    {
      "cell_type": "code",
      "source": [
        "#Split the dataset into training and testing sets for both features\n",
        "from sklearn.model_selection import train_test_split\n",
        "X_train,X_test, y_train,y_test =train_test_split(X,y, random_state = 20, test_size = 0.30)"
      ],
      "metadata": {
        "id": "bRrkNdwHjH4s"
      },
      "execution_count": 285,
      "outputs": []
    },
    {
      "cell_type": "code",
      "source": [
        "#Standardize the features\n",
        "from sklearn import preprocessing\n",
        "X_train_ST = preprocessing.scale(X_train)\n",
        "X_test_ST = preprocessing.scale(X_test)"
      ],
      "metadata": {
        "id": "1FNNWs_4jQ5L"
      },
      "execution_count": 286,
      "outputs": []
    },
    {
      "cell_type": "code",
      "source": [
        "#Fitting the logistic regression model\n",
        "from sklearn.linear_model import LogisticRegression\n",
        "Model = LogisticRegression()\n",
        "Model.fit(X_train_ST,y_train)"
      ],
      "metadata": {
        "colab": {
          "base_uri": "https://localhost:8080/",
          "height": 74
        },
        "id": "mLe1J4KZkt7n",
        "outputId": "5dd10d48-eae0-4505-9a67-f23d5cf8edc4"
      },
      "execution_count": 287,
      "outputs": [
        {
          "output_type": "execute_result",
          "data": {
            "text/plain": [
              "LogisticRegression()"
            ],
            "text/html": [
              "<style>#sk-container-id-10 {color: black;background-color: white;}#sk-container-id-10 pre{padding: 0;}#sk-container-id-10 div.sk-toggleable {background-color: white;}#sk-container-id-10 label.sk-toggleable__label {cursor: pointer;display: block;width: 100%;margin-bottom: 0;padding: 0.3em;box-sizing: border-box;text-align: center;}#sk-container-id-10 label.sk-toggleable__label-arrow:before {content: \"▸\";float: left;margin-right: 0.25em;color: #696969;}#sk-container-id-10 label.sk-toggleable__label-arrow:hover:before {color: black;}#sk-container-id-10 div.sk-estimator:hover label.sk-toggleable__label-arrow:before {color: black;}#sk-container-id-10 div.sk-toggleable__content {max-height: 0;max-width: 0;overflow: hidden;text-align: left;background-color: #f0f8ff;}#sk-container-id-10 div.sk-toggleable__content pre {margin: 0.2em;color: black;border-radius: 0.25em;background-color: #f0f8ff;}#sk-container-id-10 input.sk-toggleable__control:checked~div.sk-toggleable__content {max-height: 200px;max-width: 100%;overflow: auto;}#sk-container-id-10 input.sk-toggleable__control:checked~label.sk-toggleable__label-arrow:before {content: \"▾\";}#sk-container-id-10 div.sk-estimator input.sk-toggleable__control:checked~label.sk-toggleable__label {background-color: #d4ebff;}#sk-container-id-10 div.sk-label input.sk-toggleable__control:checked~label.sk-toggleable__label {background-color: #d4ebff;}#sk-container-id-10 input.sk-hidden--visually {border: 0;clip: rect(1px 1px 1px 1px);clip: rect(1px, 1px, 1px, 1px);height: 1px;margin: -1px;overflow: hidden;padding: 0;position: absolute;width: 1px;}#sk-container-id-10 div.sk-estimator {font-family: monospace;background-color: #f0f8ff;border: 1px dotted black;border-radius: 0.25em;box-sizing: border-box;margin-bottom: 0.5em;}#sk-container-id-10 div.sk-estimator:hover {background-color: #d4ebff;}#sk-container-id-10 div.sk-parallel-item::after {content: \"\";width: 100%;border-bottom: 1px solid gray;flex-grow: 1;}#sk-container-id-10 div.sk-label:hover label.sk-toggleable__label {background-color: #d4ebff;}#sk-container-id-10 div.sk-serial::before {content: \"\";position: absolute;border-left: 1px solid gray;box-sizing: border-box;top: 0;bottom: 0;left: 50%;z-index: 0;}#sk-container-id-10 div.sk-serial {display: flex;flex-direction: column;align-items: center;background-color: white;padding-right: 0.2em;padding-left: 0.2em;position: relative;}#sk-container-id-10 div.sk-item {position: relative;z-index: 1;}#sk-container-id-10 div.sk-parallel {display: flex;align-items: stretch;justify-content: center;background-color: white;position: relative;}#sk-container-id-10 div.sk-item::before, #sk-container-id-10 div.sk-parallel-item::before {content: \"\";position: absolute;border-left: 1px solid gray;box-sizing: border-box;top: 0;bottom: 0;left: 50%;z-index: -1;}#sk-container-id-10 div.sk-parallel-item {display: flex;flex-direction: column;z-index: 1;position: relative;background-color: white;}#sk-container-id-10 div.sk-parallel-item:first-child::after {align-self: flex-end;width: 50%;}#sk-container-id-10 div.sk-parallel-item:last-child::after {align-self: flex-start;width: 50%;}#sk-container-id-10 div.sk-parallel-item:only-child::after {width: 0;}#sk-container-id-10 div.sk-dashed-wrapped {border: 1px dashed gray;margin: 0 0.4em 0.5em 0.4em;box-sizing: border-box;padding-bottom: 0.4em;background-color: white;}#sk-container-id-10 div.sk-label label {font-family: monospace;font-weight: bold;display: inline-block;line-height: 1.2em;}#sk-container-id-10 div.sk-label-container {text-align: center;}#sk-container-id-10 div.sk-container {/* jupyter's `normalize.less` sets `[hidden] { display: none; }` but bootstrap.min.css set `[hidden] { display: none !important; }` so we also need the `!important` here to be able to override the default hidden behavior on the sphinx rendered scikit-learn.org. See: https://github.com/scikit-learn/scikit-learn/issues/21755 */display: inline-block !important;position: relative;}#sk-container-id-10 div.sk-text-repr-fallback {display: none;}</style><div id=\"sk-container-id-10\" class=\"sk-top-container\"><div class=\"sk-text-repr-fallback\"><pre>LogisticRegression()</pre><b>In a Jupyter environment, please rerun this cell to show the HTML representation or trust the notebook. <br />On GitHub, the HTML representation is unable to render, please try loading this page with nbviewer.org.</b></div><div class=\"sk-container\" hidden><div class=\"sk-item\"><div class=\"sk-estimator sk-toggleable\"><input class=\"sk-toggleable__control sk-hidden--visually\" id=\"sk-estimator-id-10\" type=\"checkbox\" checked><label for=\"sk-estimator-id-10\" class=\"sk-toggleable__label sk-toggleable__label-arrow\">LogisticRegression</label><div class=\"sk-toggleable__content\"><pre>LogisticRegression()</pre></div></div></div></div></div>"
            ]
          },
          "metadata": {},
          "execution_count": 287
        }
      ]
    },
    {
      "cell_type": "code",
      "source": [
        "#Calculating and printing the accuracy\n",
        "from sklearn.metrics import accuracy_score\n",
        "y_pred = Model.predict(preprocessing.scale(X_test))\n",
        "print(\"Train data accuracy:\", accuracy_score(y_true = y_train,y_pred=Model.predict(X_train)))\n",
        "print(\"Test data accuracy:\", accuracy_score(y_true = y_test, y_pred=y_pred))"
      ],
      "metadata": {
        "colab": {
          "base_uri": "https://localhost:8080/"
        },
        "id": "BGs611jClS0G",
        "outputId": "328f9f46-34f3-4eac-bc63-3c207a5db7a0"
      },
      "execution_count": 288,
      "outputs": [
        {
          "output_type": "stream",
          "name": "stdout",
          "text": [
            "Train data accuracy: 0.24285714285714285\n",
            "Test data accuracy: 0.83\n"
          ]
        },
        {
          "output_type": "stream",
          "name": "stderr",
          "text": [
            "/usr/local/lib/python3.10/dist-packages/sklearn/base.py:432: UserWarning: X has feature names, but LogisticRegression was fitted without feature names\n",
            "  warnings.warn(\n"
          ]
        }
      ]
    },
    {
      "cell_type": "code",
      "source": [
        "#Function prompting the user to enter customer information\n",
        "def get_user_input():\n",
        "    print(\"Enter customer information:\")\n",
        "    CUST_GENDER = input(\"CUST_GENDER: \")\n",
        "    AGE = int(input(\"AGE: \"))\n",
        "    COUNTRY_NAME = input(\"COUNTRY_NAME: \")\n",
        "    CUST_INCOME_LEVEL = int(input(\"CUST_INCOME_LEVEL: \"))\n",
        "    EDUCATION = input(\"EDUCATION: \")\n",
        "    HOUSEHOLD_SIZE = int(input(\"HOUSEHOLD_SIZE: \"))\n",
        "    YRS_RESIDENCE = int(input(\"YRS_RESIDENCE: \"))\n",
        "    AFFINITY_CARD = input(\"AFFINITY_CARD: \")"
      ],
      "metadata": {
        "id": "piErQquupiq_"
      },
      "execution_count": 308,
      "outputs": []
    },
    {
      "cell_type": "code",
      "source": [
        "#Function to predict outcome\n",
        "def make_prediction(features):\n",
        "    prediction = Model.predict(features)\n",
        "    return prediction"
      ],
      "metadata": {
        "id": "DawEz3lEp1Ly"
      },
      "execution_count": 311,
      "outputs": []
    },
    {
      "cell_type": "code",
      "source": [
        "#Entry point function for prediction application\n",
        "def main():\n",
        "    while True:\n",
        "        print(\"\\nChoose an option:\")\n",
        "        print(\"1. Enter customer information manually\")\n",
        "        print(\"2. Load customer information from file\")\n",
        "        print(\"3. Exit\")\n",
        "        choice = input(\"Enter your choice: \")\n",
        "        if choice == '1':\n",
        "            features = get_user_input()\n",
        "            prediction = make_prediction(features)\n",
        "            print(\"Predicted result:\", prediction)\n",
        "        elif choice == '2':\n",
        "            file_path = input(\"Enter the path to the file: \")\n",
        "            data = pd.read_csv(file_path)\n",
        "            features = data.values  # Assuming all columns are features\n",
        "            predictions = make_prediction(features)\n",
        "            print(\"Predicted results:\", predictions)\n",
        "        elif choice == '3':\n",
        "            break\n",
        "        else:\n",
        "            print(\"Invalid choice. Please try again.\")\n",
        "if __name__ == \"__main__\":\n",
        "    main()"
      ],
      "metadata": {
        "colab": {
          "base_uri": "https://localhost:8080/"
        },
        "id": "N8PRjzYArQBH",
        "outputId": "b0ea1813-0492-4c54-8411-74df6415be51"
      },
      "execution_count": 318,
      "outputs": [
        {
          "name": "stdout",
          "output_type": "stream",
          "text": [
            "\n",
            "Choose an option:\n",
            "1. Enter customer information manually\n",
            "2. Load customer information from file\n",
            "3. Exit\n",
            "Enter your choice: 3\n"
          ]
        }
      ]
    },
    {
      "cell_type": "code",
      "source": [
        "#import accuracy score\n",
        "from sklearn.metrics import accuracy_score"
      ],
      "metadata": {
        "id": "rWVEapWNr_cL"
      },
      "execution_count": 300,
      "outputs": []
    },
    {
      "cell_type": "code",
      "source": [
        "#selecting 100 records from the remaining dataset\n",
        "Accuracy_data = LogisticRegressionData.sample(n=100, random_state=42)"
      ],
      "metadata": {
        "id": "FIxw4EsE_1Qe"
      },
      "execution_count": 301,
      "outputs": []
    },
    {
      "cell_type": "code",
      "source": [
        "#Seperate features\n",
        "X_test_100 = Accuracy_data.drop(columns=['AFFINITY_CARD'])\n",
        "y_test_100 = Accuracy_data['AFFINITY_CARD']"
      ],
      "metadata": {
        "id": "nn_4k3zBAXle"
      },
      "execution_count": 305,
      "outputs": []
    },
    {
      "cell_type": "code",
      "source": [
        "#making predictions on the dataset\n",
        "predictions_100 = Model.predict(X_test_100)\n"
      ],
      "metadata": {
        "colab": {
          "base_uri": "https://localhost:8080/"
        },
        "id": "D5-cE_KHBK_M",
        "outputId": "ad8d8146-ed3d-418c-8cee-f35e17d53f31"
      },
      "execution_count": 306,
      "outputs": [
        {
          "output_type": "stream",
          "name": "stderr",
          "text": [
            "/usr/local/lib/python3.10/dist-packages/sklearn/base.py:432: UserWarning: X has feature names, but LogisticRegression was fitted without feature names\n",
            "  warnings.warn(\n"
          ]
        }
      ]
    },
    {
      "cell_type": "code",
      "source": [
        "#Calculating accuracy of the predictions\n",
        "accuracy_100 = accuracy_score(y_test_100, predictions_100)\n",
        "print(\"Accuracy using 100 records:\", accuracy_100)"
      ],
      "metadata": {
        "colab": {
          "base_uri": "https://localhost:8080/"
        },
        "id": "UJC3fIcnBXTV",
        "outputId": "2a2b1cbc-43c2-4a55-8ac1-c60d9f568105"
      },
      "execution_count": 307,
      "outputs": [
        {
          "output_type": "stream",
          "name": "stdout",
          "text": [
            "Accuracy using 100 records: 0.31\n"
          ]
        }
      ]
    }
  ]
}